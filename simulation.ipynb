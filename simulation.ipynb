{
 "cells": [
  {
   "cell_type": "code",
   "execution_count": 1,
   "id": "f6f2b0c0",
   "metadata": {},
   "outputs": [],
   "source": [
    "import numpy as np\n",
    "import pandas as pd"
   ]
  },
  {
   "cell_type": "code",
   "execution_count": 60,
   "id": "6df26fc2",
   "metadata": {},
   "outputs": [
    {
     "data": {
      "text/plain": [
       "0.1604"
      ]
     },
     "execution_count": 60,
     "metadata": {},
     "output_type": "execute_result"
    }
   ],
   "source": [
    "# 1. How likely is it that you roll doubles when rolling two dice?\n",
    "\n",
    "n_trials = nrows = 10_000\n",
    "n_dice = ncols = 2\n",
    "\n",
    "rolls = np.random.choice([1, 2, 3, 4, 5, 6], n_trials * n_dice).reshape(nrows, ncols)\n",
    "df = pd.DataFrame(rolls)\n",
    "(df[0] == df[1]).mean()\n",
    "\n"
   ]
  },
  {
   "cell_type": "code",
   "execution_count": null,
   "id": "a69fa9ef",
   "metadata": {},
   "outputs": [],
   "source": [
    "# 2. If you flip 8 coins, what is the probability of getting exactly \n",
    "# 3 heads? What is the probability of getting more than 3 heads?\n",
    "\n",
    "n_flip = ncols = 8\n",
    "\n",
    "flip = np.random.choice(['heads', 'tails'], n_trials * n_flip).reshape(nrows, ncols)\n",
    "trials = flip=='heads'\n",
    "sums_by_trial = trials.sum(axis=1)\n",
    "win2 = sums_by_trial > 3\n",
    "win_rate2 = win2.astype(int).mean()\n",
    "win_rate2"
   ]
  },
  {
   "cell_type": "code",
   "execution_count": 4,
   "id": "6be65970",
   "metadata": {},
   "outputs": [
    {
     "data": {
      "text/plain": [
       "0.061157289999999996"
      ]
     },
     "execution_count": 4,
     "metadata": {},
     "output_type": "execute_result"
    }
   ],
   "source": [
    "# 3. There are approximitely 3 web development cohorts for every \n",
    "# 1 data science cohort at Codeup. Assuming that Codeup randomly \n",
    "# selects an alumni to put on a billboard, what are the odds that the \n",
    "# two billboards I drive past both have data science students on them?\n",
    "\n",
    "n_student = ncols = 1\n",
    "student = np.random.choice(['DS', 'WD', 'WD', 'WD'], n_trials * n_student).reshape(nrows, ncols)\n",
    "alumni_ds = student=='DS'\n",
    "billboard = alumni_ds.astype(int).mean()\n",
    "billboard*billboard"
   ]
  },
  {
   "cell_type": "code",
   "execution_count": 5,
   "id": "c6e9c294",
   "metadata": {},
   "outputs": [
    {
     "data": {
      "text/plain": [
       "0.7234"
      ]
     },
     "execution_count": 5,
     "metadata": {},
     "output_type": "execute_result"
    }
   ],
   "source": [
    "# 4. Codeup students buy, on average, 3 poptart packages with a standard \n",
    "# deviation of 1.5 a day from the snack vending machine. \n",
    "# If on monday the machine is restocked with 17 poptart packages, \n",
    "# how likely is it that I will be able to buy some poptarts on \n",
    "# Friday afternoon? (Remember, if you have mean and standard deviation, \n",
    "# use the np.random.normal) You'll need to make a judgement call \n",
    "# on how to handle some of your values\n",
    "\n",
    "poptarts = np.random.normal(3, 1.5, size=(10_000, 5))\n",
    "poptarts_sum = poptarts.sum(axis=1)\n",
    "get_poptart = poptarts_sum < 17\n",
    "percent_poptart = get_poptart.astype(int).mean()\n",
    "percent_poptart"
   ]
  },
  {
   "cell_type": "code",
   "execution_count": 6,
   "id": "942a4cd7",
   "metadata": {},
   "outputs": [
    {
     "data": {
      "text/plain": [
       "0.2136"
      ]
     },
     "execution_count": 6,
     "metadata": {},
     "output_type": "execute_result"
    }
   ],
   "source": [
    "# 5. Compare Heights\n",
    "# Men have an average height of 178 cm and standard deviation of 8cm.\n",
    "\n",
    "# Women have a mean of 170, sd = 6cm.\n",
    "\n",
    "# Since you have means and standard deviations, \n",
    "# you can use np.random.normal to generate observations.\n",
    "\n",
    "# If a man and woman are chosen at random, \n",
    "# what is the likelihood the woman is taller than the man?\n",
    "\n",
    "men = np.random.normal(178, 8, size=(10_000))\n",
    "women = np.random.normal(170, 6, size=(10_000))\n",
    "height_check = women > men\n",
    "women_taller = height_check.astype(int).mean()\n",
    "women_taller"
   ]
  },
  {
   "cell_type": "code",
   "execution_count": 98,
   "id": "17f5a2da",
   "metadata": {},
   "outputs": [
    {
     "name": "stderr",
     "output_type": "stream",
     "text": [
      "/var/folders/vy/hnssqbw53999z9_6dhflqy780000gn/T/ipykernel_11317/2790567587.py:8: DeprecationWarning: This function is deprecated. Please call randint(1, 250 + 1) instead\n",
      "  one_in_250 = np.random.random_integers(1,250, size=(50, 10_000))\n"
     ]
    },
    {
     "data": {
      "text/plain": [
       "0.8173"
      ]
     },
     "execution_count": 98,
     "metadata": {},
     "output_type": "execute_result"
    }
   ],
   "source": [
    "# 6. When installing anaconda on a student's computer, there's a 1 in 250 \n",
    "# chance that the download is corrupted and the installation fails. \n",
    "# What are the odds that after having 50 students download anaconda, \n",
    "# no one has an installation issue?\n",
    "\n",
    "# the number 1 will represent that an issue was present\n",
    "\n",
    "one_in_250 = np.random.random_integers(1,250, size=(50, 10_000))\n",
    "df = pd.DataFrame(one_in_250)\n",
    "df = df.T\n",
    "((df == 1).sum(axis=1) == 0).mean()\n"
   ]
  },
  {
   "cell_type": "code",
   "execution_count": 99,
   "id": "7584c313",
   "metadata": {},
   "outputs": [
    {
     "name": "stderr",
     "output_type": "stream",
     "text": [
      "/var/folders/vy/hnssqbw53999z9_6dhflqy780000gn/T/ipykernel_11317/2851556218.py:5: DeprecationWarning: This function is deprecated. Please call randint(1, 250 + 1) instead\n",
      "  one_in_250 = np.random.random_integers(1,250,  size=(100, 10_000))\n"
     ]
    },
    {
     "data": {
      "text/plain": [
       "0.6734"
      ]
     },
     "execution_count": 99,
     "metadata": {},
     "output_type": "execute_result"
    }
   ],
   "source": [
    "#  100 students?\n",
    "\n",
    "# the number 1 will represent that an issue was present\n",
    "\n",
    "one_in_250 = np.random.random_integers(1,250,  size=(100, 10_000))\n",
    "df = pd.DataFrame(one_in_250)\n",
    "df = df.T\n",
    "((df == 1).sum(axis=1) == 0).mean()"
   ]
  },
  {
   "cell_type": "code",
   "execution_count": 96,
   "id": "b932157f",
   "metadata": {},
   "outputs": [
    {
     "name": "stderr",
     "output_type": "stream",
     "text": [
      "/var/folders/vy/hnssqbw53999z9_6dhflqy780000gn/T/ipykernel_11317/1109800367.py:6: DeprecationWarning: This function is deprecated. Please call randint(1, 250 + 1) instead\n",
      "  one_in_250 = np.random.random_integers(1,250,  size=(150, 10_000))\n"
     ]
    },
    {
     "data": {
      "text/plain": [
       "0.4447"
      ]
     },
     "execution_count": 96,
     "metadata": {},
     "output_type": "execute_result"
    }
   ],
   "source": [
    "# What is the probability that we observe an installation issue \n",
    "# within the first 150 students that download anaconda?\n",
    "\n",
    "# the number 1 will represent that an issue was present\n",
    "\n",
    "one_in_250 = np.random.random_integers(1,250,  size=(150, 10_000))\n",
    "df = pd.DataFrame(one_in_250)\n",
    "df = df.T\n",
    "((df == 1).sum(axis=1) >= 1).mean()"
   ]
  },
  {
   "cell_type": "code",
   "execution_count": 95,
   "id": "00498484",
   "metadata": {},
   "outputs": [
    {
     "name": "stderr",
     "output_type": "stream",
     "text": [
      "/var/folders/vy/hnssqbw53999z9_6dhflqy780000gn/T/ipykernel_11317/1666066692.py:6: DeprecationWarning: This function is deprecated. Please call randint(1, 250 + 1) instead\n",
      "  one_in_250 = np.random.random_integers(1,250, size=(450, 10_000))\n"
     ]
    },
    {
     "data": {
      "text/plain": [
       "0.1658"
      ]
     },
     "execution_count": 95,
     "metadata": {},
     "output_type": "execute_result"
    }
   ],
   "source": [
    "# How likely is it that 450 students all download anaconda \n",
    "# without an issue?\n",
    "\n",
    "# the number 1 will represent that an issue was present\n",
    "\n",
    "one_in_250 = np.random.random_integers(1,250, size=(450, 10_000))\n",
    "df = pd.DataFrame(one_in_250)\n",
    "df = df.T\n",
    "((df == 1).sum(axis=1) == 0).mean()"
   ]
  },
  {
   "cell_type": "code",
   "execution_count": 70,
   "id": "faf62041",
   "metadata": {},
   "outputs": [
    {
     "data": {
      "text/plain": [
       "0.1281"
      ]
     },
     "execution_count": 70,
     "metadata": {},
     "output_type": "execute_result"
    }
   ],
   "source": [
    "# 7. There's a 70% chance on any given day that there will be at least \n",
    "# one food truck at Travis Park. \n",
    "# However, you haven't seen a food truck there in 3 days. \n",
    "# How unlikely is this?\n",
    "\n",
    "food_truck = .7\n",
    "n_days = 3\n",
    "food_truck_check = np.random.choice(['Y', 'N'], n_trials * n_days).reshape(nrows, n_days)\n",
    "not_there = food_truck_check=='N'\n",
    "sums_not_there = not_there.sum(axis=1)\n",
    "missing_3_days = sums_not_there == 3\n",
    "unlikely = missing_3_days.mean()\n",
    "unlikely"
   ]
  },
  {
   "cell_type": "code",
   "execution_count": 102,
   "id": "5d76881b",
   "metadata": {},
   "outputs": [
    {
     "name": "stdout",
     "output_type": "stream",
     "text": [
      "0.50708\n",
      "0.41121\n",
      "0.89117\n"
     ]
    }
   ],
   "source": [
    "# 8. If 23 people are in the same room, \n",
    "# what are the odds that two of them share a birthday? \n",
    "# What if it's 20 people? 40?\n",
    "\n",
    "def birthday_paradox(people):\n",
    "    b_days = list(range(1, 366))\n",
    "    trials = 100_000\n",
    "    \n",
    "    count = 1\n",
    "    # data = (np.random.choice(b_days, (1, people))).tolist()\n",
    "\n",
    "    for i in range(100_000):\n",
    "        data = (np.random.choice(b_days, (1, people))).tolist()\n",
    "        if len(data[0]) - len(set(data[0])) != 0:\n",
    "            count += 1\n",
    "    print(count/ 100_000)\n",
    "\n",
    "birthday_paradox(23)\n",
    "birthday_paradox(20)\n",
    "birthday_paradox(40)"
   ]
  },
  {
   "cell_type": "code",
   "execution_count": 91,
   "id": "9977d553",
   "metadata": {},
   "outputs": [],
   "source": [
    "# this method was found online\n",
    "from random import randint\n",
    "from datetime import datetime, timedelta\n",
    "\n",
    "def random_birthdays(number_of_people):\n",
    "    first_day_of_year = datetime(2021, 1, 1)\n",
    "    return [first_day_of_year + timedelta(days=randint(0, 365))\n",
    "            for _ in range(number_of_people)]"
   ]
  },
  {
   "cell_type": "code",
   "execution_count": 92,
   "id": "ce79e88e",
   "metadata": {},
   "outputs": [],
   "source": [
    "def determine_probability(number_of_people, run_amount=10_000):\n",
    "    dups_found = 0\n",
    "    for _ in range(run_amount):\n",
    "        birthdays = random_birthdays(number_of_people)\n",
    "        duplicates = set(x for x in birthdays if birthdays.count(x) > 1)\n",
    "        if len(duplicates) >= 1:\n",
    "            dups_found += 1\n",
    "\n",
    "    return dups_found/run_amount * 100"
   ]
  },
  {
   "cell_type": "code",
   "execution_count": 93,
   "id": "6a90d1e6",
   "metadata": {},
   "outputs": [
    {
     "name": "stdout",
     "output_type": "stream",
     "text": [
      "23 Random people have a 50.1% chance of having a birthday on the same day\n",
      "20 Random people have a 41.2% chance of having a birthday on the same day\n",
      "40 Random people have a 89.0% chance of having a birthday on the same day\n"
     ]
    }
   ],
   "source": [
    "if __name__ == '__main__':\n",
    "    msg = (\"{people} Random people have a {chance:.1f}%\"\n",
    "           \" chance of having a birthday on the same day\")\n",
    "    for people in (23, 20, 40):\n",
    "        print(msg.format(people=people, chance=determine_probability(people)))"
   ]
  },
  {
   "cell_type": "code",
   "execution_count": null,
   "id": "bfa95d8e",
   "metadata": {},
   "outputs": [],
   "source": []
  }
 ],
 "metadata": {
  "kernelspec": {
   "display_name": "Python 3 (ipykernel)",
   "language": "python",
   "name": "python3"
  },
  "language_info": {
   "codemirror_mode": {
    "name": "ipython",
    "version": 3
   },
   "file_extension": ".py",
   "mimetype": "text/x-python",
   "name": "python",
   "nbconvert_exporter": "python",
   "pygments_lexer": "ipython3",
   "version": "3.9.12"
  }
 },
 "nbformat": 4,
 "nbformat_minor": 5
}
