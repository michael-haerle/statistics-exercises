{
 "cells": [
  {
   "cell_type": "markdown",
   "id": "ed64d2e2",
   "metadata": {},
   "source": [
    "## Overview"
   ]
  },
  {
   "cell_type": "code",
   "execution_count": 1,
   "id": "f3dac19b",
   "metadata": {},
   "outputs": [],
   "source": [
    "# For each of the following questions, formulate a null and alternative hypothesis \n",
    "# (be as specific as you can be), then give an example of what a true positive, true negative,\n",
    "# type I and type II errors would look like. Note that some of the questions are \n",
    "# intentionally phrased in a vague way. It is your job to reword these as more \n",
    "# precise questions that could be tested.\n",
    "\n",
    "# Has the network latency gone up since we switched internet service providers?\n",
    "\n",
    "# Null - The network latency has not changed since we changed internet service providers.\n",
    "# Alternative - The network latency has gotten worse since we changed internet service providers.\n",
    "# True Positive - The null hypothesis is not true and we rejected it\n",
    "# True Negative - The null hypothesis is true and we accepted it.\n",
    "# Type I - The null hypothesis was rejected but it's true.\n",
    "# Type II - The null hypothesis was not rejected but it's false.\n",
    "\n",
    "# Is the website redesign any good?\n",
    "# Is the website redesign attracting more users?\n",
    "\n",
    "# Null - The website redesign is not changing the amount of users.\n",
    "# Alternative - The website redesign is increasing the amount of users.\n",
    "# True Positive - The null hypothesis is not true and we rejected it\n",
    "# True Negative - The null hypothesis is true and we accepted it.\n",
    "# Type I - The null hypothesis was rejected but it's true.\n",
    "# Type II - The null hypothesis was not rejected but it's false. \n",
    "\n",
    "# Is our television ad driving more sales?\n",
    "\n",
    "# Null - The television add has not changed the sales.\n",
    "# Alternative - The television add has increased the sales.\n",
    "# True Positive - The null hypothesis is not true and we rejected it\n",
    "# True Negative - The null hypothesis is true and we accepted it.\n",
    "# Type I - The null hypothesis was rejected but it's true.\n",
    "# Type II - The null hypothesis was not rejected but it's false.\n"
   ]
  },
  {
   "cell_type": "markdown",
   "id": "c7374709",
   "metadata": {},
   "source": [
    "## T-Test"
   ]
  },
  {
   "cell_type": "code",
   "execution_count": null,
   "id": "d238601e",
   "metadata": {},
   "outputs": [],
   "source": [
    "# Ace Realty wants to determine whether the average time it takes to sell homes is different \n",
    "# for its two offices. A sample of 40 sales from office #1 revealed a mean of 90 days \n",
    "# and a standard deviation of 15 days. A sample of 50 sales from office #2 revealed a mean \n",
    "# of 100 days and a standard deviation of 20 days. Use a .05 level of significance.\n",
    "\n"
   ]
  }
 ],
 "metadata": {
  "kernelspec": {
   "display_name": "Python 3 (ipykernel)",
   "language": "python",
   "name": "python3"
  },
  "language_info": {
   "codemirror_mode": {
    "name": "ipython",
    "version": 3
   },
   "file_extension": ".py",
   "mimetype": "text/x-python",
   "name": "python",
   "nbconvert_exporter": "python",
   "pygments_lexer": "ipython3",
   "version": "3.9.12"
  }
 },
 "nbformat": 4,
 "nbformat_minor": 5
}
