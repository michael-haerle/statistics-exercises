{
 "cells": [
  {
   "cell_type": "code",
   "execution_count": 2,
   "id": "9bbf1daf",
   "metadata": {},
   "outputs": [],
   "source": [
    "import matplotlib.pyplot as plt\n",
    "import numpy as np\n",
    "import pandas as pd\n",
    "from scipy import stats\n",
    "import env\n",
    "user = env.user\n",
    "host = env.host\n",
    "password = env.password\n",
    "\n",
    "import os\n",
    "os.path.exists('env.py')\n",
    "\n",
    "def get_db_url(db, env_file=os.path.exists('env.py')):\n",
    "    if env_file:\n",
    "        user, password, host = (env.user, env.password, env.host)\n",
    "        return f'mysql+pymysql://{user}:{password}@{host}/{db}'"
   ]
  },
  {
   "cell_type": "code",
   "execution_count": 74,
   "id": "7af24fe2",
   "metadata": {},
   "outputs": [
    {
     "data": {
      "image/png": "[encoded data removed]",
      "text/plain": [
       "<Figure size 432x288 with 1 Axes>"
      ]
     },
     "metadata": {
      "needs_background": "light"
     },
     "output_type": "display_data"
    }
   ],
   "source": [
    "#1.  A bank found that the average number of cars waiting during the \n",
    "# noon hour at a drive-up window follows a Poisson distribution \n",
    "# with a mean of 2 cars. Make a chart of this distribution and \n",
    "# answer these questions concerning the probability of cars \n",
    "# waiting at the drive-up window.\n",
    "\n",
    "k = np.arange(0, 10)\n",
    "pmf = stats.poisson.pmf(k, mu=2)\n",
    "pmf = np.round(pmf, 5)\n",
    "plt.plot(k, pmf, marker='o')\n",
    "plt.xlabel('Number of Cars')\n",
    "plt.ylabel('Probability')\n",
    "plt.title('Poisson distribution')\n",
    "plt.show()\n",
    "\n",
    "cars = stats.poisson(2)"
   ]
  },
  {
   "cell_type": "code",
   "execution_count": 31,
   "id": "ae5e7f8a",
   "metadata": {},
   "outputs": [
    {
     "data": {
      "image/png": "[encoded data removed]",
      "text/plain": [
       "<Figure size 432x288 with 1 Axes>"
      ]
     },
     "metadata": {
      "needs_background": "light"
     },
     "output_type": "display_data"
    }
   ],
   "source": [
    "plt.bar(k, pmf)\n",
    "plt.xlabel('Number of Cars')\n",
    "plt.ylabel('Probability')\n",
    "plt.title('Poisson distribution')\n",
    "plt.show()\n"
   ]
  },
  {
   "cell_type": "code",
   "execution_count": 80,
   "id": "4235e6ed",
   "metadata": {},
   "outputs": [
    {
     "name": "stdout",
     "output_type": "stream",
     "text": [
      "0.1353352832366127\n",
      "0.32332358381693654\n",
      "0.8646647167633873\n"
     ]
    }
   ],
   "source": [
    "# What is the probability that no cars drive up in the noon hour?\n",
    "\n",
    "print(cars.pmf(0))\n",
    "\n",
    "# What is the probability that 3 or more cars come through the drive through?\n",
    "\n",
    "print(cars.sf(2))\n",
    "\n",
    "# How likely is it that the drive through gets at least 1 car?\n",
    "\n",
    "print(cars.sf(0))\n"
   ]
  },
  {
   "cell_type": "code",
   "execution_count": 62,
   "id": "ffdd90d8",
   "metadata": {},
   "outputs": [
    {
     "data": {
      "text/plain": [
       "3.4934560880854417"
      ]
     },
     "execution_count": 62,
     "metadata": {},
     "output_type": "execute_result"
    }
   ],
   "source": [
    "# 2. Grades of State University graduates are normally distributed with a \n",
    "# mean of 3.0 and a standard deviation of .3. Calculate the following:\n",
    "\n",
    "\n",
    "# What grade point average is required to be in the top 5% \n",
    "# of the graduating class?\n",
    "\n",
    "top_5 = stats.norm(3, .3)\n",
    "top_5.isf(.05)"
   ]
  },
  {
   "cell_type": "code",
   "execution_count": 63,
   "id": "14576576",
   "metadata": {},
   "outputs": [
    {
     "data": {
      "text/plain": [
       "2.689069983151863"
      ]
     },
     "execution_count": 63,
     "metadata": {},
     "output_type": "execute_result"
    }
   ],
   "source": [
    "# What GPA constitutes the bottom 15% of the class?\n",
    "\n",
    "bottom_15 = stats.norm(3, .3)\n",
    "bottom_15.ppf(.15)\n"
   ]
  },
  {
   "cell_type": "code",
   "execution_count": 167,
   "id": "1f51ac4c",
   "metadata": {},
   "outputs": [
    {
     "name": "stdout",
     "output_type": "stream",
     "text": [
      "[2.74751363 2.84267985]\n"
     ]
    }
   ],
   "source": [
    "# An eccentric alumnus left scholarship money for students in the third \n",
    "# decile from the bottom of their class. \n",
    "# Determine the range of the third decile. \n",
    "# Would a student with a 2.8 grade point average qualify for \n",
    "# this scholarship?\n",
    "\n",
    "third_decile = stats.norm(3, .3)\n",
    "print(third_decile.ppf([.20,.30]))\n",
    "# range of (2.74..., 2.84...)\n",
    "# Yes they would receive the scholorship\n",
    "\n"
   ]
  },
  {
   "cell_type": "code",
   "execution_count": 99,
   "id": "b890fad3",
   "metadata": {
    "scrolled": true
   },
   "outputs": [
    {
     "data": {
      "text/plain": [
       "0.9488005450828922"
      ]
     },
     "execution_count": 99,
     "metadata": {},
     "output_type": "execute_result"
    }
   ],
   "source": [
    "# If I have a GPA of 3.5, what percentile am I in?\n",
    "\n",
    "student = stats.norm(3, .3)\n",
    "student.cdf(3.49)\n",
    "# 95th percentile\n"
   ]
  },
  {
   "cell_type": "code",
   "execution_count": 100,
   "id": "1a65b40d",
   "metadata": {},
   "outputs": [
    {
     "data": {
      "text/plain": [
       "0.13975823631416448"
      ]
     },
     "execution_count": 100,
     "metadata": {},
     "output_type": "execute_result"
    }
   ],
   "source": [
    "# 3. A marketing website has an average click-through rate of 2%. \n",
    "# One day they observe 4326 visitors and 97 click-throughs. \n",
    "# How likely is it that this many people or more click through?\n",
    "\n",
    "visitors = 4326\n",
    "avg_click_through = .02\n",
    "\n",
    "day = stats.binom(visitors, avg_click_through)\n",
    "day.sf(96)\n"
   ]
  },
  {
   "cell_type": "code",
   "execution_count": 164,
   "id": "906ed3ce",
   "metadata": {},
   "outputs": [
    {
     "data": {
      "text/plain": [
       "0.45284335760923855"
      ]
     },
     "execution_count": 164,
     "metadata": {},
     "output_type": "execute_result"
    }
   ],
   "source": [
    "# 4. You are working on some statistics homework consisting of 100 \n",
    "# questions where all of the answers are a probability rounded to the \n",
    "# hundreths place. Looking to save time, you put down random \n",
    "# probabilities as the answer to each question.\n",
    "\n",
    "questions = 60\n",
    "chance = 1/100\n",
    "\n",
    "\n",
    "# What is the probability that at least one of your first \n",
    "# 60 answers is correct?\n",
    "\n",
    "correct_ans = stats.binom(questions, chance)\n",
    "correct_ans.sf(0)"
   ]
  },
  {
   "cell_type": "code",
   "execution_count": 158,
   "id": "bdbae897",
   "metadata": {},
   "outputs": [
    {
     "data": {
      "text/plain": [
       "0.300868680133005"
      ]
     },
     "execution_count": 158,
     "metadata": {},
     "output_type": "execute_result"
    }
   ],
   "source": [
    "# 5. The codeup staff tends to get upset when the student break area is \n",
    "# not cleaned up. Suppose that there's a 3% chance that any one student \n",
    "# cleans the break area when they visit it, and, on any given day, \n",
    "# about 90% of the 3 active cohorts of 22 students visit the break area.\n",
    "# How likely is it that the break area gets cleaned up each day? \n",
    "\n",
    "cleaned = .03\n",
    "students = 22 * 3 * .9\n",
    "clean_room = stats.binom(students, cleaned)\n",
    "clean_room.pmf(1)\n"
   ]
  },
  {
   "cell_type": "code",
   "execution_count": 160,
   "id": "93fedf34",
   "metadata": {},
   "outputs": [
    {
     "data": {
      "text/plain": [
       "0.026821436301629087"
      ]
     },
     "execution_count": 160,
     "metadata": {},
     "output_type": "execute_result"
    }
   ],
   "source": [
    "# How likely is it that it goes two days without getting cleaned up? \n",
    "\n",
    "unclean_room_2 = stats.binom(students * 2, cleaned)\n",
    "unclean_room_2.cdf(0)"
   ]
  },
  {
   "cell_type": "code",
   "execution_count": 161,
   "id": "7b6542fe",
   "metadata": {},
   "outputs": [
    {
     "data": {
      "text/plain": [
       "0.00011781621791055144"
      ]
     },
     "execution_count": 161,
     "metadata": {},
     "output_type": "execute_result"
    }
   ],
   "source": [
    "# All week?\n",
    "\n",
    "unclean_room_5 = stats.binom(students * 5, cleaned)\n",
    "unclean_room_5.cdf(0)"
   ]
  },
  {
   "cell_type": "code",
   "execution_count": 142,
   "id": "7c75c724",
   "metadata": {},
   "outputs": [
    {
     "data": {
      "text/plain": [
       "0.7475074624530771"
      ]
     },
     "execution_count": 142,
     "metadata": {},
     "output_type": "execute_result"
    }
   ],
   "source": [
    "# 6. You want to get lunch at La Panaderia, but notice that the line \n",
    "# is usually very long at lunchtime. After several weeks of careful \n",
    "# observation, you notice that the average number of people in line when \n",
    "# your lunch break starts is normally distributed with a mean of 15 and \n",
    "# standard deviation of 3. If it takes 2 minutes for each person to order,\n",
    "# and 10 minutes from ordering to getting your food, what is the \n",
    "# likelihood that you have at least 15 minutes left to eat your food \n",
    "# before you have to go back to class? \n",
    "# Assume you have one hour for lunch, and ignore travel time \n",
    "# to and from La Panaderia.\n",
    "\n",
    "# 60min - 15min = 45min - 10min = 35min/2min = 17.5 people\n",
    "# round down because you can't have half a person\n",
    "\n",
    "people = stats.norm(15, 3)\n",
    "people.cdf(17)"
   ]
  },
  {
   "cell_type": "code",
   "execution_count": 148,
   "id": "0cc510ea",
   "metadata": {},
   "outputs": [
    {
     "data": {
      "text/plain": [
       "salary    72012.235857\n",
       "dtype: float64"
      ]
     },
     "execution_count": 148,
     "metadata": {},
     "output_type": "execute_result"
    }
   ],
   "source": [
    "# 7. Connect to the employees database and find the average salary of \n",
    "# current employees, along with the standard deviation. \n",
    "# For the following questions, calculate the answer based on modeling \n",
    "# the employees salaries with a normal distribution defined by the \n",
    "# calculated mean and standard deviation then compare this answer to \n",
    "# the actual values present in the salaries dataset.\n",
    "\n",
    "url_emp = get_db_url('employees')\n",
    "df = pd.read_sql(\n",
    "'SELECT salary FROM employees JOIN salaries USING (emp_no) WHERE to_date > NOW();', url_emp)\n",
    "\n",
    "df.mean()"
   ]
  },
  {
   "cell_type": "code",
   "execution_count": 149,
   "id": "b215d7be",
   "metadata": {},
   "outputs": [
    {
     "data": {
      "text/plain": [
       "salary    17309.99538\n",
       "dtype: float64"
      ]
     },
     "execution_count": 149,
     "metadata": {},
     "output_type": "execute_result"
    }
   ],
   "source": [
    "df.std()"
   ]
  },
  {
   "cell_type": "code",
   "execution_count": 151,
   "id": "9f01c891",
   "metadata": {},
   "outputs": [
    {
     "data": {
      "text/plain": [
       "0.2438576059564661"
      ]
     },
     "execution_count": 151,
     "metadata": {},
     "output_type": "execute_result"
    }
   ],
   "source": [
    "# What percent of employees earn less than 60,000?\n",
    "\n",
    "salary = stats.norm(72012.235857, 17309.99538)\n",
    "salary.cdf(60_000.01)\n"
   ]
  },
  {
   "cell_type": "code",
   "execution_count": 153,
   "id": "9f76ce29",
   "metadata": {},
   "outputs": [
    {
     "data": {
      "text/plain": [
       "0.09208819199191742"
      ]
     },
     "execution_count": 153,
     "metadata": {},
     "output_type": "execute_result"
    }
   ],
   "source": [
    "# What percent of employees earn more than 95,000?\n",
    "\n",
    "salary.sf(95_000)"
   ]
  },
  {
   "cell_type": "code",
   "execution_count": 163,
   "id": "b3049461",
   "metadata": {},
   "outputs": [
    {
     "data": {
      "text/plain": [
       "0.33506056854908584"
      ]
     },
     "execution_count": 163,
     "metadata": {},
     "output_type": "execute_result"
    }
   ],
   "source": [
    "# What percent of employees earn between 65,000 and 80,000?\n",
    "\n",
    "between = salary.cdf([65_000, 80_000])\n",
    "between[1] - between[0]"
   ]
  },
  {
   "cell_type": "code",
   "execution_count": 157,
   "id": "7ad59cac",
   "metadata": {},
   "outputs": [
    {
     "data": {
      "text/plain": [
       "100484.64454030624"
      ]
     },
     "execution_count": 157,
     "metadata": {},
     "output_type": "execute_result"
    }
   ],
   "source": [
    "# What do the top 5% of employees make?\n",
    "\n",
    "salary.isf(.05)"
   ]
  },
  {
   "cell_type": "code",
   "execution_count": null,
   "id": "ec7aec07",
   "metadata": {},
   "outputs": [],
   "source": []
  }
 ],
 "metadata": {
  "kernelspec": {
   "display_name": "Python 3 (ipykernel)",
   "language": "python",
   "name": "python3"
  },
  "language_info": {
   "codemirror_mode": {
    "name": "ipython",
    "version": 3
   },
   "file_extension": ".py",
   "mimetype": "text/x-python",
   "name": "python",
   "nbconvert_exporter": "python",
   "pygments_lexer": "ipython3",
   "version": "3.9.12"
  }
 },
 "nbformat": 4,
 "nbformat_minor": 5
}
